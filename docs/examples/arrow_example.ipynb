{
 "cells": [
  {
   "cell_type": "markdown",
   "metadata": {},
   "source": [
    "# Arrow example\n",
    "\n",
    "This example illustrates how to convert Arrow data that contains power-grid-model data to NumPy structured arrays, which the power-grid-model requests.\n",
    "\n",
    "It is by no means intended to provide complete documentation on the topic, but only to show how such conversions could be done.\n",
    "\n",
    "This example uses `pyarrow.RecordBatch` to demonstrate zero copy operations. The user can choose a `pyarrow.Table` or other structures based on the requirement.\n",
    "\n",
    "**NOTE:** To run this example, the optional `examples` dependencies are required:\n",
    "\n",
    "```sh\n",
    "pip install .[examples]\n",
    "```"
   ]
  },
  {
   "cell_type": "code",
   "execution_count": 1,
   "metadata": {},
   "outputs": [],
   "source": [
    "%%capture cap --no-stderr\n",
    "from IPython.display import display\n",
    "\n",
    "from power_grid_model import (\n",
    "    PowerGridModel,\n",
    "    initialize_array,\n",
    "    CalculationMethod,\n",
    "    power_grid_meta_data,\n",
    "    ComponentType,\n",
    "    DatasetType,\n",
    ")\n",
    "import pyarrow as pa\n",
    "import pandas as pd\n",
    "import numpy as np\n",
    "\n",
    "ZERO_COPY_ERROR_MSG = \"Zero-copy conversion requested, but the data types do not match.\""
   ]
  },
  {
   "cell_type": "markdown",
   "metadata": {},
   "source": [
    "\n",
    "## Model\n",
    "\n",
    "For clarity, a simple network is created. More complex cases work similarly and can be found in the other examples:\n",
    "\n",
    "```\n",
    "node 1 ---- line 4 ---- node 2 ----line 5 ---- node 3\n",
    "   |                       |                      |\n",
    "source 6               sym_load 7             sym_load 8\n",
    "```"
   ]
  },
  {
   "cell_type": "markdown",
   "metadata": {},
   "source": [
    "## Single symmetric calculations\n",
    "\n",
    "Construct the input data for the model and construct the actual model.\n",
    "\n",
    "Arrow uses a columnar data format while the power-grid-model offers both: row based or columnar data format.\n",
    "Converting to/from columnar data can enable having zero copies to be produced while atleast one copy would be produced for row-based data conversions."
   ]
  },
  {
   "cell_type": "markdown",
   "metadata": {},
   "source": [
    "### List the power-grid-model data types\n",
    "\n",
    "See which attributes exist for a given component and which data types are used"
   ]
  },
  {
   "cell_type": "code",
   "execution_count": 2,
   "metadata": {},
   "outputs": [
    {
     "name": "stdout",
     "output_type": "stream",
     "text": [
      "node: {'names': ['id', 'u_rated'], 'formats': ['<i4', '<f8'], 'offsets': [0, 8], 'itemsize': 16, 'aligned': True}\n",
      "line: {'names': ['id', 'from_node', 'to_node', 'from_status', 'to_status', 'r1', 'x1', 'c1', 'tan1', 'r0', 'x0', 'c0', 'tan0', 'i_n'], 'formats': ['<i4', '<i4', '<i4', 'i1', 'i1', '<f8', '<f8', '<f8', '<f8', '<f8', '<f8', '<f8', '<f8', '<f8'], 'offsets': [0, 4, 8, 12, 13, 16, 24, 32, 40, 48, 56, 64, 72, 80], 'itemsize': 88, 'aligned': True}\n",
      "source: {'names': ['id', 'node', 'status', 'u_ref', 'u_ref_angle', 'sk', 'rx_ratio', 'z01_ratio'], 'formats': ['<i4', '<i4', 'i1', '<f8', '<f8', '<f8', '<f8', '<f8'], 'offsets': [0, 4, 8, 16, 24, 32, 40, 48], 'itemsize': 56, 'aligned': True}\n",
      "asym_load: {'names': ['id', 'node', 'status', 'type', 'p_specified', 'q_specified'], 'formats': ['<i4', '<i4', 'i1', 'i1', ('<f8', (3,)), ('<f8', (3,))], 'offsets': [0, 4, 8, 9, 16, 40], 'itemsize': 64, 'aligned': True}\n"
     ]
    }
   ],
   "source": [
    "node_input_dtype = initialize_array(\"input\", \"node\", 0).dtype\n",
    "line_input_dtype = initialize_array(\"input\", \"line\", 0).dtype\n",
    "source_input_dtype = initialize_array(\"input\", \"source\", 0).dtype\n",
    "asym_load_input_dtype = initialize_array(\"input\", \"asym_load\", 0).dtype\n",
    "print(\"node:\", node_input_dtype)\n",
    "print(\"line:\", line_input_dtype)\n",
    "print(\"source:\", source_input_dtype)\n",
    "print(\"asym_load:\", asym_load_input_dtype)"
   ]
  },
  {
   "cell_type": "markdown",
   "metadata": {},
   "source": [
    "The primitive types of each attribute in the arrow tables need to match to make the operation efficient.\n",
    "We can also create a helper function based on this. \n",
    "Note that the asymmetric type of attribute in power-grid-model has a shape of `(3,)` along with a specific type. These represent the 3 phases of electrical system.\n",
    "Hence asymmetric attributes need to be handled specially."
   ]
  },
  {
   "cell_type": "markdown",
   "metadata": {},
   "source": [
    "#### Creating a Schema\n",
    "\n",
    "Optionally, we can also make this task easier by creating a schema based on the `DatasetType` and `ComponentType` directly from `power_grid_meta_data`. \n",
    "They can then directly be used to construct RecordBatches. The user can modify this schema based on the available attributes for each component."
   ]
  },
  {
   "cell_type": "markdown",
   "metadata": {},
   "source": [
    "##### Schema with suffixes\n",
    "\n",
    "Suffixes are added to the asymmetric attribute names to handle them."
   ]
  },
  {
   "cell_type": "code",
   "execution_count": 3,
   "metadata": {},
   "outputs": [
    {
     "name": "stdout",
     "output_type": "stream",
     "text": [
      "-------node scehma-------\n",
      "id: int32\n",
      "u_rated: double\n",
      "-------asym load scehma-------\n",
      "id: int32\n",
      "node: int32\n",
      "status: int8\n",
      "type: int8\n",
      "p_specified_a: double\n",
      "p_specified_b: double\n",
      "p_specified_c: double\n",
      "q_specified_a: double\n",
      "q_specified_b: double\n",
      "q_specified_c: double\n"
     ]
    }
   ],
   "source": [
    "def pgm_schema(\n",
    "    dataset_type: DatasetType, component_type: ComponentType, asym_suffix: tuple[str, str, str] = (\"a\", \"b\", \"c\")\n",
    "):\n",
    "    schemas = []\n",
    "    component_dtype = power_grid_meta_data[dataset_type][component_type].dtype\n",
    "    for attribute, (dtype, _) in component_dtype.fields.items():\n",
    "        if dtype.shape == (3,):\n",
    "            for suffix in asym_suffix:\n",
    "                schemas.append((f\"{attribute}_{suffix}\", pa.from_numpy_dtype(dtype.base)))\n",
    "        else:\n",
    "            schemas.append((attribute, pa.from_numpy_dtype(dtype)))\n",
    "    return pa.schema(schemas)\n",
    "\n",
    "\n",
    "print(\"-------node scehma-------\")\n",
    "print(pgm_schema(DatasetType.input, ComponentType.node))\n",
    "print(\"-------asym load scehma-------\")\n",
    "print(pgm_schema(DatasetType.input, ComponentType.asym_load))"
   ]
  },
  {
   "cell_type": "markdown",
   "metadata": {},
   "source": [
    "##### Schema with asymmetric attributes as a struct\n",
    "\n",
    "The phases can also be combined together in a pyarrow fixed size list."
   ]
  },
  {
   "cell_type": "code",
   "execution_count": 4,
   "metadata": {},
   "outputs": [
    {
     "name": "stdout",
     "output_type": "stream",
     "text": [
      "-------node combined asym scehma-------\n",
      "id: int32\n",
      "u_rated: double\n",
      "-------asym load combined asym scehma-------\n",
      "id: int32\n",
      "node: int32\n",
      "status: int8\n",
      "type: int8\n",
      "p_specified: fixed_size_list<item: double>[3]\n",
      "  child 0, item: double\n",
      "q_specified: fixed_size_list<item: double>[3]\n",
      "  child 0, item: double\n"
     ]
    }
   ],
   "source": [
    "def pgm_combined_schema(dataset_type: DatasetType, component_type: ComponentType):\n",
    "    schemas = []\n",
    "    component_dtype = power_grid_meta_data[dataset_type][component_type].dtype\n",
    "    for attribute, (dtype, _) in component_dtype.fields.items():\n",
    "        if dtype.shape == (3,):\n",
    "            pa_dtype = pa.list_(pa.from_numpy_dtype(dtype.base), 3)\n",
    "        else:\n",
    "            pa_dtype = pa.from_numpy_dtype(dtype)\n",
    "        schemas.append((attribute, pa_dtype))\n",
    "    return pa.schema(schemas)\n",
    "\n",
    "\n",
    "print(\"-------node combined asym scehma-------\")\n",
    "print(pgm_combined_schema(DatasetType.input, ComponentType.node))\n",
    "print(\"-------asym load combined asym scehma-------\")\n",
    "print(pgm_combined_schema(DatasetType.input, ComponentType.asym_load))"
   ]
  },
  {
   "cell_type": "markdown",
   "metadata": {},
   "source": [
    "### Create the grid using Arrow tables\n",
    "\n",
    "The [power-grid-model documentation on Components](https://power-grid-model.readthedocs.io/en/stable/user_manual/components.html) provides documentation on which components are required and which ones are optional.\n",
    "\n",
    "Construct the Arrow data as a table with the correct headers and data types."
   ]
  },
  {
   "cell_type": "code",
   "execution_count": 5,
   "metadata": {},
   "outputs": [
    {
     "data": {
      "text/plain": [
       "pyarrow.RecordBatch\n",
       "id: int32\n",
       "u_rated: double\n",
       "----\n",
       "id: [1,2,3]\n",
       "u_rated: [10500,10500,10500]"
      ]
     },
     "execution_count": 5,
     "metadata": {},
     "output_type": "execute_result"
    }
   ],
   "source": [
    "nodes = pa.record_batch(\n",
    "    [\n",
    "        pa.array([1, 2, 3], type=pa.int32()),  # id\n",
    "        pa.array([10500.0, 10500.0, 10500.0], type=pa.float64()),\n",
    "    ],\n",
    "    names=(\"id\", \"u_rated\"),\n",
    ")\n",
    "lines = pa.record_batch(\n",
    "    [\n",
    "        pa.array([4, 5], type=pa.int32()),  # id\n",
    "        pa.array([1, 2], type=pa.int32()),  # from_node\n",
    "        pa.array([2, 3], type=pa.int32()),  # to_node\n",
    "        pa.array([1, 1], type=pa.int8()),  # from_status\n",
    "        pa.array([1, 1], type=pa.int8()),  # to_status\n",
    "        pa.array([0.11, 0.15], type=pa.float64()),  # r1\n",
    "        pa.array([0.12, 0.16], type=pa.float64()),  # x1\n",
    "        pa.array([4.1e-05, 5.4e-05], type=pa.float64()),  # c1\n",
    "        pa.array([0.1, 0.1], type=pa.float64()),  # tan1\n",
    "        pa.array([0.01, 0.05], type=pa.float64()),  # r0\n",
    "        pa.array([0.22, 0.06], type=pa.float64()),  # x0\n",
    "        pa.array([4.1e-05, 5.4e-05], type=pa.float64()),  # c0\n",
    "        pa.array([0.4, 0.1], type=pa.float64()),  # tan0\n",
    "    ],\n",
    "    names=(\n",
    "        \"id\",\n",
    "        \"from_node\",\n",
    "        \"to_node\",\n",
    "        \"from_status\",\n",
    "        \"to_status\",\n",
    "        \"r1\",\n",
    "        \"x1\",\n",
    "        \"c1\",\n",
    "        \"tan1\",\n",
    "        \"r0\",\n",
    "        \"x0\",\n",
    "        \"c0\",\n",
    "        \"tan0\",\n",
    "    ),\n",
    ")\n",
    "sources = pa.record_batch(\n",
    "    [\n",
    "        pa.array([6], type=pa.int32()),  # id\n",
    "        pa.array([1], type=pa.int32()),  # node\n",
    "        pa.array([1], type=pa.int8()),  # status\n",
    "        pa.array([1.0], type=pa.float64()),  # u_ref\n",
    "    ],\n",
    "    names=(\"id\", \"node\", \"status\", \"u_ref\"),\n",
    ")\n",
    "sym_loads = pa.record_batch(\n",
    "    [\n",
    "        pa.array([7, 8], type=pa.int32()),  # id\n",
    "        pa.array([2, 3], type=pa.int32()),  # node\n",
    "        pa.array([1, 1], type=pa.int8()),  # status\n",
    "        pa.array([0, 0], type=pa.int8()),  # type\n",
    "        pa.array([1.0, 2.0], type=pa.float64()),  # p_specified\n",
    "        pa.array([0.5, 1.5], type=pa.float64()),  # q_specified\n",
    "    ],\n",
    "    names=(\"id\", \"node\", \"status\", \"type\", \"p_specified\", \"q_specified\"),\n",
    ")\n",
    "\n",
    "nodes\n",
    "# the tables of the other components can be printed similarly"
   ]
  },
  {
   "cell_type": "markdown",
   "metadata": {},
   "source": [
    "### Convert the Arrow data to power-grid-model input data\n",
    "\n",
    "These Arrow record batch or tables can then be converted to row based or columnar array."
   ]
  },
  {
   "cell_type": "markdown",
   "metadata": {},
   "source": [
    "#### Conversion to row based arrays\n",
    "\n",
    "No direct conversion from Arrow Tables to row based NumPy array exists and a copy is always required. This would not be the most memory efficient approach. \n",
    "\n",
    "To ensure support for optional arguments and to prevent version lock, it is recommended to create an empty power-grid-model data set using `initialize_array` and then fill it with the Arrow data."
   ]
  },
  {
   "cell_type": "code",
   "execution_count": 6,
   "metadata": {},
   "outputs": [
    {
     "data": {
      "text/plain": [
       "array([(1, 10500.), (2, 10500.), (3, 10500.)],\n",
       "      dtype={'names': ['id', 'u_rated'], 'formats': ['<i4', '<f8'], 'offsets': [0, 8], 'itemsize': 16, 'aligned': True})"
      ]
     },
     "execution_count": 6,
     "metadata": {},
     "output_type": "execute_result"
    }
   ],
   "source": [
    "def arrow_to_numpy_row_based(data: pa.lib.Table, data_type: str, component: str) -> np.ndarray:\n",
    "    \"\"\"Convert Arrow data to NumPy data.\"\"\"\n",
    "    result = initialize_array(data_type, component, len(data))\n",
    "    for name, column in zip(data.column_names, data.columns):\n",
    "        if name in result.dtype.names:\n",
    "            result[name] = column.to_numpy()\n",
    "    return result\n",
    "\n",
    "\n",
    "node_input_row_based = arrow_to_numpy_row_based(nodes, \"input\", \"node\")\n",
    "node_input_row_based"
   ]
  },
  {
   "cell_type": "markdown",
   "metadata": {},
   "source": [
    "#### Conversion to columnar arrays\n",
    "\n",
    "For more memory-efficient operations, converting Arrow data to columnar NumPy arrays can be done with zero-copy operations. This ensures that no additional memory is used for the conversion process.\n",
    "\n",
    "This approach ensures that the data types match and that the conversion is efficient, leveraging the columnar nature of Arrow data. The option of `zero_copy_only` is added in this demo to verify no copies are made. Its usage is not mandatory to ensure zero copy."
   ]
  },
  {
   "cell_type": "code",
   "execution_count": 7,
   "metadata": {},
   "outputs": [
    {
     "data": {
      "text/plain": [
       "{'id': array([1, 2, 3]), 'u_rated': array([10500., 10500., 10500.])}"
      ]
     },
     "execution_count": 7,
     "metadata": {},
     "output_type": "execute_result"
    }
   ],
   "source": [
    "def arrow_to_numpy_columnar(\n",
    "    data: pa.lib.Table, dataset_type: DatasetType, component_type: ComponentType, zero_copy_only: bool = False\n",
    ") -> np.ndarray:\n",
    "    \"\"\"Convert Arrow data to NumPy data.\"\"\"\n",
    "    result = {}\n",
    "    result_dtype = power_grid_meta_data[dataset_type][component_type].dtype\n",
    "    for name, column in zip(data.column_names, data.columns):\n",
    "        column_data = column.to_numpy(zero_copy_only=zero_copy_only)\n",
    "        if zero_copy_only and column_data.dtype != result_dtype[name]:\n",
    "            raise ValueError(ZERO_COPY_ERROR_MSG)\n",
    "        result[name] = column_data.astype(result_dtype[name])\n",
    "    return result\n",
    "\n",
    "\n",
    "node_input = arrow_to_numpy_columnar(nodes, DatasetType.input, ComponentType.node, zero_copy_only=True)\n",
    "line_input = arrow_to_numpy_columnar(lines, DatasetType.input, ComponentType.line)\n",
    "source_input = arrow_to_numpy_columnar(sources, DatasetType.input, ComponentType.source)\n",
    "sym_load_input = arrow_to_numpy_columnar(sym_loads, DatasetType.input, ComponentType.sym_load)\n",
    "\n",
    "node_input"
   ]
  },
  {
   "cell_type": "markdown",
   "metadata": {},
   "source": [
    "### Construct the complete input data structure"
   ]
  },
  {
   "cell_type": "code",
   "execution_count": 8,
   "metadata": {},
   "outputs": [
    {
     "data": {
      "text/plain": [
       "{'node': {'id': array([1, 2, 3]), 'u_rated': array([10500., 10500., 10500.])},\n",
       " 'line': {'id': array([4, 5]),\n",
       "  'from_node': array([1, 2]),\n",
       "  'to_node': array([2, 3]),\n",
       "  'from_status': array([1, 1], dtype=int8),\n",
       "  'to_status': array([1, 1], dtype=int8),\n",
       "  'r1': array([0.11, 0.15]),\n",
       "  'x1': array([0.12, 0.16]),\n",
       "  'c1': array([4.1e-05, 5.4e-05]),\n",
       "  'tan1': array([0.1, 0.1]),\n",
       "  'r0': array([0.01, 0.05]),\n",
       "  'x0': array([0.22, 0.06]),\n",
       "  'c0': array([4.1e-05, 5.4e-05]),\n",
       "  'tan0': array([0.4, 0.1])},\n",
       " 'source': {'id': array([6]),\n",
       "  'node': array([1]),\n",
       "  'status': array([1], dtype=int8),\n",
       "  'u_ref': array([1.])},\n",
       " 'sym_load': {'id': array([7, 8]),\n",
       "  'node': array([2, 3]),\n",
       "  'status': array([1, 1], dtype=int8),\n",
       "  'type': array([0, 0], dtype=int8),\n",
       "  'p_specified': array([1., 2.]),\n",
       "  'q_specified': array([0.5, 1.5])}}"
      ]
     },
     "execution_count": 8,
     "metadata": {},
     "output_type": "execute_result"
    }
   ],
   "source": [
    "input_data = {\n",
    "    \"node\": node_input,\n",
    "    \"line\": line_input,\n",
    "    \"source\": source_input,\n",
    "    \"sym_load\": sym_load_input,\n",
    "}\n",
    "\n",
    "input_data"
   ]
  },
  {
   "cell_type": "code",
   "execution_count": 9,
   "metadata": {},
   "outputs": [],
   "source": [
    "# Optional: validate the input data\n",
    "from power_grid_model.validation import validate_input_data\n",
    "\n",
    "validate_input_data(input_data)"
   ]
  },
  {
   "cell_type": "markdown",
   "metadata": {},
   "source": [
    "### Use the power-grid-model\n",
    "\n",
    "For more extensive examples, visit the [power-grid-model documentation](https://power-grid-model.readthedocs.io/en/stable/index.html)."
   ]
  },
  {
   "cell_type": "code",
   "execution_count": 10,
   "metadata": {},
   "outputs": [
    {
     "data": {
      "text/html": [
       "<div>\n",
       "<style scoped>\n",
       "    .dataframe tbody tr th:only-of-type {\n",
       "        vertical-align: middle;\n",
       "    }\n",
       "\n",
       "    .dataframe tbody tr th {\n",
       "        vertical-align: top;\n",
       "    }\n",
       "\n",
       "    .dataframe thead th {\n",
       "        text-align: right;\n",
       "    }\n",
       "</style>\n",
       "<table border=\"1\" class=\"dataframe\">\n",
       "  <thead>\n",
       "    <tr style=\"text-align: right;\">\n",
       "      <th></th>\n",
       "      <th>id</th>\n",
       "      <th>energized</th>\n",
       "      <th>u_pu</th>\n",
       "      <th>u</th>\n",
       "      <th>u_angle</th>\n",
       "      <th>p</th>\n",
       "      <th>q</th>\n",
       "    </tr>\n",
       "  </thead>\n",
       "  <tbody>\n",
       "    <tr>\n",
       "      <th>0</th>\n",
       "      <td>1</td>\n",
       "      <td>1</td>\n",
       "      <td>1.000325</td>\n",
       "      <td>10503.410670</td>\n",
       "      <td>-0.000067</td>\n",
       "      <td>338777.246279</td>\n",
       "      <td>-3.299419e+06</td>\n",
       "    </tr>\n",
       "    <tr>\n",
       "      <th>1</th>\n",
       "      <td>2</td>\n",
       "      <td>1</td>\n",
       "      <td>1.002879</td>\n",
       "      <td>10530.228073</td>\n",
       "      <td>-0.002932</td>\n",
       "      <td>-1.000000</td>\n",
       "      <td>-5.000001e-01</td>\n",
       "    </tr>\n",
       "    <tr>\n",
       "      <th>2</th>\n",
       "      <td>3</td>\n",
       "      <td>1</td>\n",
       "      <td>1.004113</td>\n",
       "      <td>10543.184974</td>\n",
       "      <td>-0.004342</td>\n",
       "      <td>-2.000000</td>\n",
       "      <td>-1.500000e+00</td>\n",
       "    </tr>\n",
       "  </tbody>\n",
       "</table>\n",
       "</div>"
      ],
      "text/plain": [
       "   id  energized      u_pu             u   u_angle              p  \\\n",
       "0   1          1  1.000325  10503.410670 -0.000067  338777.246279   \n",
       "1   2          1  1.002879  10530.228073 -0.002932      -1.000000   \n",
       "2   3          1  1.004113  10543.184974 -0.004342      -2.000000   \n",
       "\n",
       "              q  \n",
       "0 -3.299419e+06  \n",
       "1 -5.000001e-01  \n",
       "2 -1.500000e+00  "
      ]
     },
     "metadata": {},
     "output_type": "display_data"
    }
   ],
   "source": [
    "# construct the model\n",
    "model = PowerGridModel(input_data=input_data, system_frequency=50)\n",
    "\n",
    "# run the calculation\n",
    "sym_result = model.calculate_power_flow()\n",
    "\n",
    "# use pandas to tabulate and display the results\n",
    "pd_sym_node_result = pd.DataFrame(sym_result[\"node\"])\n",
    "display(pd_sym_node_result)"
   ]
  },
  {
   "cell_type": "markdown",
   "metadata": {},
   "source": [
    "### Convert power-grid-model output data to Arrow output data\n",
    "\n",
    "Using Pandas DataFrames as an intermediate type, constructing Arrow data formats is straightfoward"
   ]
  },
  {
   "cell_type": "code",
   "execution_count": 11,
   "metadata": {},
   "outputs": [
    {
     "data": {
      "text/plain": [
       "pyarrow.RecordBatch\n",
       "id: int32\n",
       "energized: int8\n",
       "u_pu: double\n",
       "u: double\n",
       "u_angle: double\n",
       "p: double\n",
       "q: double\n",
       "----\n",
       "id: [1,2,3]\n",
       "energized: [1,1,1]\n",
       "u_pu: [1.000324825742982,1.0028788641128945,1.004112854674026]\n",
       "u: [10503.410670301311,10530.228073185392,10543.184974077272]\n",
       "u_angle: [-0.00006651843181518038,-0.0029317915196012487,-0.004341587216862092]\n",
       "p: [338777.2462788448,-1.0000002693184182,-1.9999998867105226]\n",
       "q: [-3299418.661306348,-0.5000000701801947,-1.4999998507078594]"
      ]
     },
     "execution_count": 11,
     "metadata": {},
     "output_type": "execute_result"
    }
   ],
   "source": [
    "pa_sym_node_result = pa.record_batch(pd_sym_node_result)\n",
    "\n",
    "# and similar for other components\n",
    "\n",
    "pa_sym_node_result"
   ]
  },
  {
   "cell_type": "markdown",
   "metadata": {},
   "source": [
    "## Single asymmetric calculations\n",
    "\n",
    "Asymmetric calculations have a tuple of values for some of the attributes and are not easily convertible to pandas data frames.\n",
    "Instead, one can have a look at the individual components of those attributes and/or flatten the arrays to access all components.\n",
    "\n",
    "### Asymmetric input\n",
    "\n",
    "To illustrate the conversion, let's consider a similar grid but with asymmetric loads.\n",
    "\n",
    "```\n",
    "node 1 ---- line 4 ---- node 2 ----line 5 ---- node 3\n",
    "   |                       |                      |\n",
    "source 6              asym_load 7            asym_load 8\n",
    "```"
   ]
  },
  {
   "cell_type": "code",
   "execution_count": 12,
   "metadata": {},
   "outputs": [
    {
     "name": "stdout",
     "output_type": "stream",
     "text": [
      "asym_load: {'names': ['id', 'node', 'status', 'type', 'p_specified', 'q_specified'], 'formats': ['<i4', '<i4', 'i1', 'i1', ('<f8', (3,)), ('<f8', (3,))], 'offsets': [0, 4, 8, 9, 16, 40], 'itemsize': 64, 'aligned': True}\n"
     ]
    },
    {
     "data": {
      "text/plain": [
       "pyarrow.RecordBatch\n",
       "id: int32\n",
       "node: int32\n",
       "status: int8\n",
       "type: int8\n",
       "p_specified_a: double\n",
       "p_specified_b: double\n",
       "p_specified_c: double\n",
       "q_specified_a: double\n",
       "q_specified_b: double\n",
       "q_specified_c: double\n",
       "----\n",
       "id: [7,8]\n",
       "node: [2,3]\n",
       "status: [1,1]\n",
       "type: [0,0]\n",
       "p_specified_a: [1,2]\n",
       "p_specified_b: [0.01,2.5]\n",
       "p_specified_c: [0.011,450]\n",
       "q_specified_a: [0.5,1.5]\n",
       "q_specified_b: [1500,2.5]\n",
       "q_specified_c: [0.1,1500]"
      ]
     },
     "execution_count": 12,
     "metadata": {},
     "output_type": "execute_result"
    }
   ],
   "source": [
    "asym_load_input_dtype = initialize_array(\"input\", \"asym_load\", 0).dtype\n",
    "print(\"asym_load:\", asym_load_input_dtype)\n",
    "\n",
    "asym_loads = pa.record_batch(\n",
    "    [\n",
    "        pa.array([7, 8], type=pa.int32()),  # id\n",
    "        pa.array([2, 3], type=pa.int32()),  # node\n",
    "        pa.array([1, 1], type=pa.int8()),  # status\n",
    "        pa.array([0, 0], type=pa.int8()),  # type\n",
    "        pa.array([1.0, 2.0], type=pa.float64()),  # p_specified_a\n",
    "        pa.array([1.0e-2, 2.5], type=pa.float64()),  # p_specified_b\n",
    "        pa.array([1.1e-2, 4.5e2], type=pa.float64()),  # p_specified_c\n",
    "        pa.array([0.5, 1.5], type=pa.float64()),  # q_specified_a\n",
    "        pa.array([1.5e3, 2.5], type=pa.float64()),  # q_specified_b\n",
    "        pa.array([0.1, 1.5e3], type=pa.float64()),  # q_specified_c\n",
    "    ],\n",
    "    names=(\n",
    "        \"id\",\n",
    "        \"node\",\n",
    "        \"status\",\n",
    "        \"type\",\n",
    "        \"p_specified_a\",\n",
    "        \"p_specified_b\",\n",
    "        \"p_specified_c\",\n",
    "        \"q_specified_a\",\n",
    "        \"q_specified_b\",\n",
    "        \"q_specified_c\",\n",
    "    ),\n",
    ")\n",
    "\n",
    "asym_loads"
   ]
  },
  {
   "cell_type": "markdown",
   "metadata": {},
   "source": [
    "#### Conversion to row based data\n",
    "\n",
    "The implementation would be similar to [Conversion to row based arrays for symmetric input](#conversion-to-row-based-arrays), with special handling for asymmertic values"
   ]
  },
  {
   "cell_type": "code",
   "execution_count": 13,
   "metadata": {},
   "outputs": [
    {
     "data": {
      "text/plain": [
       "array([(7, 2, 1, 0, [1.0e+00, 1.0e-02, 1.1e-02], [5.0e-01, 1.5e+03, 1.0e-01]),\n",
       "       (8, 3, 1, 0, [2.0e+00, 2.5e+00, 4.5e+02], [1.5e+00, 2.5e+00, 1.5e+03])],\n",
       "      dtype={'names': ['id', 'node', 'status', 'type', 'p_specified', 'q_specified'], 'formats': ['<i4', '<i4', 'i1', 'i1', ('<f8', (3,)), ('<f8', (3,))], 'offsets': [0, 4, 8, 9, 16, 40], 'itemsize': 64, 'aligned': True})"
      ]
     },
     "execution_count": 13,
     "metadata": {},
     "output_type": "execute_result"
    }
   ],
   "source": [
    "def arrow_to_numpy_asym_row_based(\n",
    "    data: pa.lib.Table,\n",
    "    dataset_type: DatasetType,\n",
    "    component_type: ComponentType,\n",
    "    phases_suffix: tuple[str, str, str] = (\"a\", \"b\", \"c\"),\n",
    ") -> np.ndarray:\n",
    "    \"\"\"Convert asymmetric Arrow data to NumPy data.\n",
    "\n",
    "    This function is similar to the arrow_to_numpy function, but also supports asymmetric data.\"\"\"\n",
    "    result = initialize_array(dataset_type, component_type, len(data))\n",
    "    for name, (dtype, _) in result.dtype.fields.items():\n",
    "        if len(dtype.shape) == 0:\n",
    "            # simple or symmetric data type\n",
    "            if name in data.column_names:\n",
    "                result[name] = data.column(name).to_numpy()\n",
    "        else:\n",
    "            # asymmetric data type\n",
    "            for phase_index, phase in enumerate(phases_suffix):\n",
    "                phase_name = f\"{name}_{phase}\"\n",
    "\n",
    "                if phase_name in data.column_names:\n",
    "                    result[name][:, phase_index] = data.column(phase_name).to_numpy()\n",
    "\n",
    "    return result\n",
    "\n",
    "\n",
    "asym_load_input = arrow_to_numpy_asym_row_based(asym_loads, DatasetType.input, ComponentType.asym_load)\n",
    "\n",
    "asym_load_input"
   ]
  },
  {
   "cell_type": "markdown",
   "metadata": {},
   "source": [
    "#### Conversion to columnar arrays\n",
    "\n",
    "The implementation would be similar to [Conversion to columnar arrays for symmetric input](#conversion-to-columnar-arrays), with special handling for asymmertic values.\n",
    "A copy for the 3 phase attributes in this case is always needed."
   ]
  },
  {
   "cell_type": "code",
   "execution_count": 14,
   "metadata": {},
   "outputs": [
    {
     "data": {
      "text/plain": [
       "{'id': array([7, 8]),\n",
       " 'node': array([2, 3]),\n",
       " 'status': array([1, 1], dtype=int8),\n",
       " 'type': array([0, 0], dtype=int8),\n",
       " 'p_specified': array([[1.0e+00, 1.0e-02, 1.1e-02],\n",
       "        [2.0e+00, 2.5e+00, 4.5e+02]]),\n",
       " 'q_specified': array([[5.0e-01, 1.5e+03, 1.0e-01],\n",
       "        [1.5e+00, 2.5e+00, 1.5e+03]])}"
      ]
     },
     "execution_count": 14,
     "metadata": {},
     "output_type": "execute_result"
    }
   ],
   "source": [
    "def arrow_to_numpy_asym_columnar(\n",
    "    data: pa.lib.Table,\n",
    "    dataset_type: DatasetType,\n",
    "    component_type: ComponentType,\n",
    "    phases_suffix: tuple[str, str, str] = (\"a\", \"b\", \"c\"),\n",
    ") -> np.ndarray:\n",
    "    \"\"\"Convert asymmetric Arrow data to NumPy data.\n",
    "\n",
    "    This function is similar to the arrow_to_numpy function, but also supports asymmetric data.\"\"\"\n",
    "    result = {}\n",
    "    result_dtype = power_grid_meta_data[dataset_type][component_type].dtype\n",
    "\n",
    "    for name in result_dtype.names:\n",
    "        dtype = result_dtype[name]\n",
    "        if len(dtype.shape) == 0:\n",
    "            # simple or symmetric data type\n",
    "            if name in data.column_names:\n",
    "                column_data = data.column(name).to_numpy()\n",
    "                result[name] = column_data.astype(result_dtype[name])\n",
    "        else:\n",
    "            # asymmetric data type\n",
    "            for phase_index, phase in enumerate(phases_suffix):\n",
    "                phase_name = f\"{name}_{phase}\"\n",
    "                if phase_name not in data.column_names:\n",
    "                    continue\n",
    "\n",
    "                column_data = data.column(phase_name).to_numpy()\n",
    "                if name not in result:\n",
    "                    result[name] = np.empty(shape=len(column_data), dtype=result_dtype[name])\n",
    "                result[name][:, phase_index] = column_data\n",
    "    return result\n",
    "\n",
    "\n",
    "asym_load_input_columnar = arrow_to_numpy_asym_columnar(asym_loads, DatasetType.input, ComponentType.asym_load)\n",
    "\n",
    "asym_load_input_columnar"
   ]
  },
  {
   "cell_type": "markdown",
   "metadata": {},
   "source": [
    "#### Combined representation of 3 phase values\n",
    "\n",
    "We start from complete 3 phases as a fixed size list array"
   ]
  },
  {
   "cell_type": "code",
   "execution_count": 15,
   "metadata": {},
   "outputs": [
    {
     "name": "stdout",
     "output_type": "stream",
     "text": [
      "asym_load: {'names': ['id', 'node', 'status', 'type', 'p_specified', 'q_specified'], 'formats': ['<i4', '<i4', 'i1', 'i1', ('<f8', (3,)), ('<f8', (3,))], 'offsets': [0, 4, 8, 9, 16, 40], 'itemsize': 64, 'aligned': True}\n"
     ]
    },
    {
     "data": {
      "text/plain": [
       "pyarrow.RecordBatch\n",
       "id: int32\n",
       "node: int32\n",
       "status: int8\n",
       "type: int8\n",
       "p_specified: fixed_size_list<item: double>[3]\n",
       "  child 0, item: double\n",
       "q_specified: fixed_size_list<item: double>[3]\n",
       "  child 0, item: double\n",
       "----\n",
       "id: [7,8]\n",
       "node: [2,3]\n",
       "status: [1,1]\n",
       "type: [0,0]\n",
       "p_specified: [[1,0.01,0.011],[2,2.5,450]]\n",
       "q_specified: [[0.5,1500,0.1],[1.5,2.5,1500]]"
      ]
     },
     "execution_count": 15,
     "metadata": {},
     "output_type": "execute_result"
    }
   ],
   "source": [
    "asym_load_input_dtype = initialize_array(\"input\", \"asym_load\", 0).dtype\n",
    "print(\"asym_load:\", asym_load_input_dtype)\n",
    "# asym_float_type = pa.struct([(\"a\", pa.float64()), (\"b\", pa.float64()), (\"c\", pa.float64())])\n",
    "\n",
    "asym_loads = pa.record_batch(\n",
    "    [\n",
    "        pa.array([7, 8], type=pa.int32()),  # id\n",
    "        pa.array([2, 3], type=pa.int32()),  # node\n",
    "        pa.array([1, 1], type=pa.int8()),  # status\n",
    "        pa.array([0, 0], type=pa.int8()),  # type\n",
    "        pa.array([[1.0, 1.0e-2, 1.1e-2], [2.0, 2.5, 4.5e2]], type=pa.list_(pa.float64(), 3)),  # p_specified\n",
    "        pa.array([[0.5, 1.5e3, 0.1], [1.5, 2.5, 1.5e3]], type=pa.list_(pa.float64(), 3)),  # q_specified\n",
    "    ],\n",
    "    names=(\"id\", \"node\", \"status\", \"type\", \"p_specified\", \"q_specified\"),\n",
    ")\n",
    "\n",
    "asym_loads"
   ]
  },
  {
   "cell_type": "code",
   "execution_count": 16,
   "metadata": {},
   "outputs": [],
   "source": [
    "# TODO: Add a function to convert the Arrow data to NumPy data for row based data using fixed size list arrays\n",
    "# TODO: Added below is a function to convert the Arrow data to NumPy data for columnar data using fixed size list arrays. Should it be kept or removed?"
   ]
  },
  {
   "cell_type": "markdown",
   "metadata": {},
   "source": [
    "#### Columnar data conversion for asmmetric attribute as list array"
   ]
  },
  {
   "cell_type": "code",
   "execution_count": 17,
   "metadata": {},
   "outputs": [
    {
     "data": {
      "text/plain": [
       "{'id': array([7, 8]),\n",
       " 'node': array([2, 3]),\n",
       " 'status': array([1, 1], dtype=int8),\n",
       " 'type': array([0, 0], dtype=int8),\n",
       " 'p_specified': array([[1.0e+00, 1.0e-02, 1.1e-02],\n",
       "        [2.0e+00, 2.5e+00, 4.5e+02]]),\n",
       " 'q_specified': array([[5.0e-01, 1.5e+03, 1.0e-01],\n",
       "        [1.5e+00, 2.5e+00, 1.5e+03]])}"
      ]
     },
     "execution_count": 17,
     "metadata": {},
     "output_type": "execute_result"
    }
   ],
   "source": [
    "def arrow_to_numpy_asym_list_array_columnar(\n",
    "    data: pa.lib.Table, dataset_type: DatasetType, component_type: ComponentType, zero_copy_only: bool = False\n",
    ") -> np.ndarray:\n",
    "    \"\"\"Convert asymmetric Arrow data to NumPy data.\n",
    "\n",
    "    This function is similar to the arrow_to_numpy function, but also supports asymmetric data.\"\"\"\n",
    "    result = {}\n",
    "    result_dtype = power_grid_meta_data[dataset_type][component_type].dtype\n",
    "\n",
    "    for name in result_dtype.names:\n",
    "        if name not in data.column_names:\n",
    "            continue\n",
    "        dtype = result_dtype[name]\n",
    "\n",
    "        if len(dtype.shape) == 0:\n",
    "            column_data = data.column(name).to_numpy(zero_copy_only=zero_copy_only)\n",
    "        else:\n",
    "            column_data = data.column(name).flatten().to_numpy(zero_copy_only=zero_copy_only).reshape(-1, 3)\n",
    "\n",
    "        # TODO Find a way to include shape information instead of base dtype\n",
    "        if zero_copy_only and column_data.dtype.base != dtype.base:\n",
    "            raise ValueError(ZERO_COPY_ERROR_MSG)\n",
    "        result[name] = column_data.astype(dtype.base)\n",
    "    return result\n",
    "\n",
    "\n",
    "asym_load_input_columnar_asym_list_array = arrow_to_numpy_asym_list_array_columnar(\n",
    "    asym_loads, DatasetType.input, ComponentType.asym_load, zero_copy_only=True\n",
    ")\n",
    "\n",
    "asym_load_input_columnar_asym_list_array"
   ]
  },
  {
   "cell_type": "markdown",
   "metadata": {},
   "source": [
    "### Use the power-grid-model in asymmetric calculations"
   ]
  },
  {
   "cell_type": "code",
   "execution_count": 18,
   "metadata": {},
   "outputs": [
    {
     "data": {
      "text/html": [
       "<div>\n",
       "<style scoped>\n",
       "    .dataframe tbody tr th:only-of-type {\n",
       "        vertical-align: middle;\n",
       "    }\n",
       "\n",
       "    .dataframe tbody tr th {\n",
       "        vertical-align: top;\n",
       "    }\n",
       "\n",
       "    .dataframe thead th {\n",
       "        text-align: right;\n",
       "    }\n",
       "</style>\n",
       "<table border=\"1\" class=\"dataframe\">\n",
       "  <thead>\n",
       "    <tr style=\"text-align: right;\">\n",
       "      <th></th>\n",
       "      <th>0</th>\n",
       "      <th>1</th>\n",
       "      <th>2</th>\n",
       "    </tr>\n",
       "  </thead>\n",
       "  <tbody>\n",
       "    <tr>\n",
       "      <th>0</th>\n",
       "      <td>-0.000067</td>\n",
       "      <td>-2.094462</td>\n",
       "      <td>2.094328</td>\n",
       "    </tr>\n",
       "    <tr>\n",
       "      <th>1</th>\n",
       "      <td>-0.002930</td>\n",
       "      <td>-2.097322</td>\n",
       "      <td>2.091464</td>\n",
       "    </tr>\n",
       "    <tr>\n",
       "      <th>2</th>\n",
       "      <td>-0.004338</td>\n",
       "      <td>-2.098733</td>\n",
       "      <td>2.090057</td>\n",
       "    </tr>\n",
       "  </tbody>\n",
       "</table>\n",
       "</div>"
      ],
      "text/plain": [
       "          0         1         2\n",
       "0 -0.000067 -2.094462  2.094328\n",
       "1 -0.002930 -2.097322  2.091464\n",
       "2 -0.004338 -2.098733  2.090057"
      ]
     },
     "execution_count": 18,
     "metadata": {},
     "output_type": "execute_result"
    }
   ],
   "source": [
    "asym_input_data = {\n",
    "    \"node\": node_input,\n",
    "    \"line\": line_input,\n",
    "    \"source\": source_input,\n",
    "    \"asym_load\": asym_load_input,\n",
    "}\n",
    "\n",
    "validate_input_data(asym_input_data, symmetric=False)\n",
    "\n",
    "# construct the model\n",
    "asym_model = PowerGridModel(input_data=asym_input_data, system_frequency=50)\n",
    "\n",
    "# run the calculation\n",
    "asym_result = asym_model.calculate_power_flow(symmetric=False)\n",
    "\n",
    "# use pandas to display the results, but beware the data types\n",
    "pd.DataFrame(asym_result[\"node\"][\"u_angle\"])"
   ]
  },
  {
   "cell_type": "markdown",
   "metadata": {},
   "source": [
    "### Convert asymmetric power-grid-model output data to Arrow output data"
   ]
  },
  {
   "cell_type": "code",
   "execution_count": 19,
   "metadata": {},
   "outputs": [
    {
     "data": {
      "text/plain": [
       "pyarrow.Table\n",
       "id: int32\n",
       "energized: int8\n",
       "u_pu_a: double\n",
       "u_pu_b: double\n",
       "u_pu_c: double\n",
       "u_a: double\n",
       "u_b: double\n",
       "u_c: double\n",
       "u_angle_a: double\n",
       "u_angle_b: double\n",
       "u_angle_c: double\n",
       "p_a: double\n",
       "p_b: double\n",
       "p_c: double\n",
       "q_a: double\n",
       "q_b: double\n",
       "q_c: double\n",
       "----\n",
       "id: [[1,2,3]]\n",
       "energized: [[1,1,1]]\n",
       "u_pu_a: [[1.0003248257977395,1.0028803762176164,1.0041143008174032]]\n",
       "u_pu_b: [[1.0003243769486854,1.0028710993140406,1.0041033583077175]]\n",
       "u_pu_c: [[1.00032436416241,1.0028730789021523,1.0041004935738533]]\n",
       "u_a: [[6064.146978239599,6079.639179329456,6087.119449677845]]\n",
       "u_b: [[6064.144257236815,6079.582941090301,6087.053114238262]]\n",
       "u_c: [[6064.1441797241405,6079.594941705457,6087.035747712152]]\n",
       "u_angle_a: [[-0.00006651848125694397,-0.0029298831864832267,-0.004337685507209373]]\n",
       "u_angle_b: [[-2.094461573665813,-2.0973219974462594,-2.098732840554144]]\n",
       "..."
      ]
     },
     "execution_count": 19,
     "metadata": {},
     "output_type": "execute_result"
    }
   ],
   "source": [
    "def numpy_to_arrow(data: np.ndarray) -> pa.lib.table:\n",
    "    \"\"\"Convert NumPy data to Arrow data.\"\"\"\n",
    "    simple_data_types = []\n",
    "    multi_value_data_types = []\n",
    "\n",
    "    for name, (dtype, _) in data.dtype.fields.items():\n",
    "        if len(dtype.shape) == 0:\n",
    "            simple_data_types.append(name)\n",
    "        else:\n",
    "            multi_value_data_types.append(name)\n",
    "\n",
    "    result = pa.table(pd.DataFrame(data[simple_data_types]))\n",
    "\n",
    "    phases = (\"a\", \"b\", \"c\")\n",
    "    for name in multi_value_data_types:\n",
    "        column = data[name]\n",
    "\n",
    "        assert column.shape[1] == len(phases), \"Asymmetric data has 3 phase output\"\n",
    "\n",
    "        for phase_index, phase in enumerate(phases):\n",
    "            sub_column = column[:, phase_index]\n",
    "            result = result.append_column(f\"{name}_{phase}\", [pd.Series(sub_column)])\n",
    "\n",
    "    return result\n",
    "\n",
    "\n",
    "pa_asym_node_result = numpy_to_arrow(asym_result[\"node\"])\n",
    "\n",
    "pa_asym_node_result"
   ]
  },
  {
   "cell_type": "code",
   "execution_count": 20,
   "metadata": {},
   "outputs": [],
   "source": [
    "# TODO Add a function to convert the results back to Arrow format for columnar data with individual phases\n",
    "# TODO Add a function to convert the results back to Arrow format for row data with fixed list array\n",
    "# TODO Add a function to convert the results back to Arrow format using columnar data with fixed list array"
   ]
  },
  {
   "cell_type": "markdown",
   "metadata": {},
   "source": [
    "## Batch data\n",
    "\n",
    "power-grid-model supports batch calculations by providing an `update_data` argument, as shown in [this example](https://power-grid-model.readthedocs.io/en/stable/examples/Power%20Flow%20Example.html#batch-calculation).\n",
    "\n",
    "Both the `update_data` and the output result are similar to the `input_data` and output data in the above, except that they have another dimension representing the batch index: the first index in the NumPy structured arrays.\n",
    "\n",
    "This extra index can be represented in Arrow using a [`RecordBatch`](https://arrow.apache.org/docs/cpp/api/table.html#two-dimensional-datasets) or using any other multi-index data format."
   ]
  }
 ],
 "metadata": {
  "kernelspec": {
   "display_name": ".venv",
   "language": "python",
   "name": "python3"
  },
  "language_info": {
   "codemirror_mode": {
    "name": "ipython",
    "version": 3
   },
   "file_extension": ".py",
   "mimetype": "text/x-python",
   "name": "python",
   "nbconvert_exporter": "python",
   "pygments_lexer": "ipython3",
   "version": "3.12.0"
  },
  "orig_nbformat": 4
 },
 "nbformat": 4,
 "nbformat_minor": 2
}
