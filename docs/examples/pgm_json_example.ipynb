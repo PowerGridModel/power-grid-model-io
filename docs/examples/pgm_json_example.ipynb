{
 "cells": [
  {
   "cell_type": "markdown",
   "metadata": {},
   "source": [
    "# PGM JSON Converter\n",
    "\n",
    "The PGM JSON Converter, converts to and from the native power-grid-model JSON data format, but with the addition of\n",
    "handling _extra info_; information about the components, stored in the json data, but not used for the calculations.\n",
    "This json format makes it convenient to evaluate the grid data in perspective of input to power-grid-model. \n",
    "More details about the JSON format are mentioned in `power_grid_model.utils` and an example of it is in [Make Test\n",
    "Dataset](power-grid-model:examples/Make%20Test%20Dataset.ipynb) in power-grid-model repository.\n"
   ]
  },
  {
   "cell_type": "markdown",
   "metadata": {},
   "source": [
    "## 1. Load the JSON data\n",
    "\n",
    "Define source and destination paths:"
   ]
  },
  {
   "cell_type": "code",
   "execution_count": 1,
   "metadata": {
    "pycharm": {
     "is_executing": true
    }
   },
   "outputs": [],
   "source": [
    "source_file = \"data/tiny-net/input.json\"\n",
    "destination_file = \"data/tiny-net/sym_output.json\""
   ]
  },
  {
   "cell_type": "markdown",
   "metadata": {},
   "source": [
    "For debugging purposes, let's check the JSON input:"
   ]
  },
  {
   "cell_type": "code",
   "execution_count": 2,
   "metadata": {
    "pycharm": {
     "is_executing": true,
     "name": "#%%\n"
    }
   },
   "outputs": [
    {
     "data": {
      "text/markdown": [
       "<pre style='max-height: 160px; overflow: scroll; white-space: pre'>{\n",
       "  \"node\":\n",
       "    [\n",
       "      {\"id\": 1, \"u_rated\": 10500.0, \"name\": \"First Node\"},\n",
       "      {\"id\": 2, \"u_rated\": 10500.0, \"name\": \"Second Node\"},\n",
       "      {\"id\": 3, \"u_rated\": 10500.0, \"name\": \"Third Node\"}\n",
       "    ],\n",
       "  \"line\":\n",
       "    [\n",
       "      {\"id\": 4, \"from_node\": 1, \"to_node\": 2, \"from_status\": 1, \"to_status\": 1, \"r1\": 0.11, \"x1\": 0.12, \"c1\": 4.1380285203892784e-05, \"tan1\": 0.1076923076923077, \"i_n\": 510.0},\n",
       "      {\"id\": 5, \"from_node\": 2, \"to_node\": 3, \"from_status\": 1, \"to_status\": 1, \"r1\": 0.15, \"x1\": 0.16, \"c1\": 5.411268065124442e-05, \"tan1\": 0.10588235294117646, \"i_n\": 520.0}\n",
       "    ],\n",
       "  \"source\":\n",
       "    [\n",
       "      {\"id\": 6, \"node\": 1, \"status\": 1, \"u_ref\": 1.01047619047619, \"sk\": 200000000.0}\n",
       "    ],\n",
       "  \"sym_load\":\n",
       "    [\n",
       "      {\"id\": 7, \"node\": 2, \"status\": 1, \"type\": 4},\n",
       "      {\"id\": 8, \"node\": 3, \"status\": 1, \"type\": 4}\n",
       "    ],\n",
       "  \"sym_voltage_sensor\":\n",
       "    [\n",
       "      {\"id\": 101, \"measured_object\": 1, \"u_sigma\": 105.0, \"u_measured\": 10751.072595758282, \"u_angle_measured\": -0.013054638926306409},\n",
       "      {\"id\": 201, \"measured_object\": 2, \"u_sigma\": 105.0, \"u_measured\": 10752.698591183394, \"u_angle_measured\": -0.01763734945972652},\n",
       "      {\"id\": 301, \"measured_object\": 3, \"u_sigma\": 100.0, \"u_measured\": 10748.320749959701, \"u_angle_measured\": -0.02018233075947404}\n",
       "    ],\n",
       "  \"sym_power_sensor\":\n",
       "    [\n",
       "      {\"id\": 401, \"measured_object\": 4, \"measured_terminal_type\": 0, \"power_sigma\": 37916.0, \"p_measured\": 2412359.2976399013, \"q_measured\": -3024028.886598367},\n",
       "      {\"id\": 402, \"measured_object\": 4, \"measured_terminal_type\": 1, \"power_sigma\": 1000000000000000.0, \"p_measured\": -2000000.0, \"q_measured\": 1000000.0},\n",
       "      {\"id\": 501, \"measured_object\": 5, \"measured_terminal_type\": 0, \"power_sigma\": 20878.0, \"p_measured\": 1230426.390004009, \"q_measured\": -1742195.1033582848},\n",
       "      {\"id\": 502, \"measured_object\": 5, \"measured_terminal_type\": 1, \"power_sigma\": 10435.0, \"p_measured\": -1019999.9999999485, \"q_measured\": -219999.99999999927},\n",
       "      {\"id\": 601, \"measured_object\": 6, \"measured_terminal_type\": 2, \"power_sigma\": 38009.0, \"p_measured\": 2412359.297639887, \"q_measured\": -3024028.8865982923},\n",
       "      {\"id\": 701, \"measured_object\": 7, \"measured_terminal_type\": 4, \"power_sigma\": 10316.0, \"p_measured\": 1010000.0, \"q_measured\": 210000.0},\n",
       "      {\"id\": 801, \"measured_object\": 8, \"measured_terminal_type\": 4, \"power_sigma\": 10435.0, \"p_measured\": 1020000.0, \"q_measured\": 220000.0}\n",
       "    ]\n",
       "}</pre>"
      ],
      "text/plain": [
       "<IPython.core.display.Markdown object>"
      ]
     },
     "metadata": {},
     "output_type": "display_data"
    }
   ],
   "source": [
    "from pathlib import Path\n",
    "\n",
    "from IPython.display import Markdown, display\n",
    "\n",
    "with Path(source_file).open() as json_file:\n",
    "    display(Markdown(f\"<pre style='max-height: 160px; overflow: scroll; white-space: pre'>{json_file.read()}</pre>\"))"
   ]
  },
  {
   "cell_type": "markdown",
   "metadata": {
    "pycharm": {
     "name": "#%% md\n"
    }
   },
   "source": [
    "Instantiate the converter, optionally with source and destination file paths.\n",
    "Then use `load_input_data()` to load the data and convert it to power-grid-model data.\n",
    "Additional information is stored in `extra_info`."
   ]
  },
  {
   "cell_type": "code",
   "execution_count": 3,
   "metadata": {
    "pycharm": {
     "is_executing": true
    }
   },
   "outputs": [],
   "source": [
    "%%capture cap --no-stderr\n",
    "from power_grid_model_io.converters import PgmJsonConverter\n",
    "\n",
    "converter = PgmJsonConverter(source_file=source_file, destination_file=destination_file)\n",
    "input_data, extra_info = converter.load_input_data()"
   ]
  },
  {
   "cell_type": "markdown",
   "metadata": {
    "pycharm": {
     "name": "#%% md\n"
    }
   },
   "source": [
    "Let's investigate the data we have converted, for one of the components: `nodes`"
   ]
  },
  {
   "cell_type": "code",
   "execution_count": 4,
   "metadata": {
    "pycharm": {
     "is_executing": true,
     "name": "#%%\n"
    }
   },
   "outputs": [
    {
     "data": {
      "text/plain": [
       "array([(1, 10500.), (2, 10500.), (3, 10500.)],\n",
       "      dtype={'names': ['id', 'u_rated'], 'formats': ['<i4', '<f8'], 'offsets': [0, 8], 'itemsize': 16, 'aligned': True})"
      ]
     },
     "metadata": {},
     "output_type": "display_data"
    },
    {
     "data": {
      "application/vnd.microsoft.datawrangler.viewer.v0+json": {
       "columns": [
        {
         "name": "index",
         "rawType": "int64",
         "type": "integer"
        },
        {
         "name": "id",
         "rawType": "int32",
         "type": "integer"
        },
        {
         "name": "u_rated",
         "rawType": "float64",
         "type": "float"
        }
       ],
       "ref": "b9b25297-e12b-4040-9951-af02fee36dd3",
       "rows": [
        [
         "0",
         "1",
         "10500.0"
        ],
        [
         "1",
         "2",
         "10500.0"
        ],
        [
         "2",
         "3",
         "10500.0"
        ]
       ],
       "shape": {
        "columns": 2,
        "rows": 3
       }
      },
      "text/html": [
       "<div>\n",
       "<style scoped>\n",
       "    .dataframe tbody tr th:only-of-type {\n",
       "        vertical-align: middle;\n",
       "    }\n",
       "\n",
       "    .dataframe tbody tr th {\n",
       "        vertical-align: top;\n",
       "    }\n",
       "\n",
       "    .dataframe thead th {\n",
       "        text-align: right;\n",
       "    }\n",
       "</style>\n",
       "<table border=\"1\" class=\"dataframe\">\n",
       "  <thead>\n",
       "    <tr style=\"text-align: right;\">\n",
       "      <th></th>\n",
       "      <th>id</th>\n",
       "      <th>u_rated</th>\n",
       "    </tr>\n",
       "  </thead>\n",
       "  <tbody>\n",
       "    <tr>\n",
       "      <th>0</th>\n",
       "      <td>1</td>\n",
       "      <td>10500.0</td>\n",
       "    </tr>\n",
       "    <tr>\n",
       "      <th>1</th>\n",
       "      <td>2</td>\n",
       "      <td>10500.0</td>\n",
       "    </tr>\n",
       "    <tr>\n",
       "      <th>2</th>\n",
       "      <td>3</td>\n",
       "      <td>10500.0</td>\n",
       "    </tr>\n",
       "  </tbody>\n",
       "</table>\n",
       "</div>"
      ],
      "text/plain": [
       "   id  u_rated\n",
       "0   1  10500.0\n",
       "1   2  10500.0\n",
       "2   3  10500.0"
      ]
     },
     "metadata": {},
     "output_type": "display_data"
    },
    {
     "data": {
      "text/plain": [
       "{np.int32(1): {'name': 'First Node'},\n",
       " np.int32(2): {'name': 'Second Node'},\n",
       " np.int32(3): {'name': 'Third Node'}}"
      ]
     },
     "metadata": {},
     "output_type": "display_data"
    }
   ],
   "source": [
    "import pandas as pd\n",
    "\n",
    "# The node data is stored as a numpy structured array in input_data[\"node\"]\n",
    "display(input_data[\"node\"])\n",
    "\n",
    "# We can use pandas to display the data in a convenient tabular format\n",
    "display(pd.DataFrame(input_data[\"node\"]))\n",
    "\n",
    "# Notice that the node names were not stored in the numpy array, as we don't need them for the calculations\n",
    "display({i: extra_info[i] for i in input_data[\"node\"][\"id\"]})"
   ]
  },
  {
   "cell_type": "markdown",
   "metadata": {
    "pycharm": {
     "name": "#%% md\n"
    }
   },
   "source": [
    "## 2. Run the calculation\n",
    "\n",
    "Run powerflow calculation with the `input_data` and show the results for `nodes`."
   ]
  },
  {
   "cell_type": "code",
   "execution_count": 5,
   "metadata": {
    "pycharm": {
     "is_executing": true,
     "name": "#%%\n"
    }
   },
   "outputs": [
    {
     "data": {
      "application/vnd.microsoft.datawrangler.viewer.v0+json": {
       "columns": [
        {
         "name": "index",
         "rawType": "int64",
         "type": "integer"
        },
        {
         "name": "id",
         "rawType": "int32",
         "type": "integer"
        },
        {
         "name": "energized",
         "rawType": "int8",
         "type": "integer"
        },
        {
         "name": "u_pu",
         "rawType": "float64",
         "type": "float"
        },
        {
         "name": "u",
         "rawType": "float64",
         "type": "float"
        },
        {
         "name": "u_angle",
         "rawType": "float64",
         "type": "float"
        },
        {
         "name": "p",
         "rawType": "float64",
         "type": "float"
        },
        {
         "name": "q",
         "rawType": "float64",
         "type": "float"
        }
       ],
       "ref": "3ee71cef-7325-45b2-8b08-0cf72a1ff4c6",
       "rows": [
        [
         "0",
         "1",
         "1",
         "1.023911675778034",
         "10751.072595669357",
         "-0.013054638927056751",
         "2412359.2976174504",
         "-3024028.8865525764"
        ],
        [
         "1",
         "2",
         "1",
         "1.0240665324851739",
         "10752.698591094326",
         "-0.017637349460499083",
         "-1009999.9999917591",
         "-209999.9999941892"
        ],
        [
         "2",
         "3",
         "1",
         "1.0236495952257696",
         "10748.320749870581",
         "-0.020182330760261546",
         "-1019999.9999916556",
         "-219999.99999405467"
        ]
       ],
       "shape": {
        "columns": 7,
        "rows": 3
       }
      },
      "text/html": [
       "<div>\n",
       "<style scoped>\n",
       "    .dataframe tbody tr th:only-of-type {\n",
       "        vertical-align: middle;\n",
       "    }\n",
       "\n",
       "    .dataframe tbody tr th {\n",
       "        vertical-align: top;\n",
       "    }\n",
       "\n",
       "    .dataframe thead th {\n",
       "        text-align: right;\n",
       "    }\n",
       "</style>\n",
       "<table border=\"1\" class=\"dataframe\">\n",
       "  <thead>\n",
       "    <tr style=\"text-align: right;\">\n",
       "      <th></th>\n",
       "      <th>id</th>\n",
       "      <th>energized</th>\n",
       "      <th>u_pu</th>\n",
       "      <th>u</th>\n",
       "      <th>u_angle</th>\n",
       "      <th>p</th>\n",
       "      <th>q</th>\n",
       "    </tr>\n",
       "  </thead>\n",
       "  <tbody>\n",
       "    <tr>\n",
       "      <th>0</th>\n",
       "      <td>1</td>\n",
       "      <td>1</td>\n",
       "      <td>1.023912</td>\n",
       "      <td>10751.072596</td>\n",
       "      <td>-0.013055</td>\n",
       "      <td>2.412359e+06</td>\n",
       "      <td>-3.024029e+06</td>\n",
       "    </tr>\n",
       "    <tr>\n",
       "      <th>1</th>\n",
       "      <td>2</td>\n",
       "      <td>1</td>\n",
       "      <td>1.024067</td>\n",
       "      <td>10752.698591</td>\n",
       "      <td>-0.017637</td>\n",
       "      <td>-1.010000e+06</td>\n",
       "      <td>-2.100000e+05</td>\n",
       "    </tr>\n",
       "    <tr>\n",
       "      <th>2</th>\n",
       "      <td>3</td>\n",
       "      <td>1</td>\n",
       "      <td>1.023650</td>\n",
       "      <td>10748.320750</td>\n",
       "      <td>-0.020182</td>\n",
       "      <td>-1.020000e+06</td>\n",
       "      <td>-2.200000e+05</td>\n",
       "    </tr>\n",
       "  </tbody>\n",
       "</table>\n",
       "</div>"
      ],
      "text/plain": [
       "   id  energized      u_pu             u   u_angle             p             q\n",
       "0   1          1  1.023912  10751.072596 -0.013055  2.412359e+06 -3.024029e+06\n",
       "1   2          1  1.024067  10752.698591 -0.017637 -1.010000e+06 -2.100000e+05\n",
       "2   3          1  1.023650  10748.320750 -0.020182 -1.020000e+06 -2.200000e+05"
      ]
     },
     "metadata": {},
     "output_type": "display_data"
    }
   ],
   "source": [
    "from power_grid_model import PowerGridModel\n",
    "\n",
    "pgm = PowerGridModel(input_data=input_data)\n",
    "output_data = pgm.calculate_state_estimation()\n",
    "\n",
    "display(pd.DataFrame(output_data[\"node\"]))"
   ]
  },
  {
   "cell_type": "markdown",
   "metadata": {},
   "source": [
    "## 3. Save the data as a JSON file\n",
    "The data can be stored in a json file, using the same converter instance as we used to load the input data. The file will be saved in the `destination_file` path supplied in the constructor, or a custom data_store (file, api endpint, database, etc) can be provided here."
   ]
  },
  {
   "cell_type": "code",
   "execution_count": 6,
   "metadata": {
    "pycharm": {
     "is_executing": true,
     "name": "#%%\n"
    }
   },
   "outputs": [],
   "source": [
    "converter.save(data=output_data, extra_info=extra_info)"
   ]
  },
  {
   "cell_type": "markdown",
   "metadata": {
    "pycharm": {
     "name": "#%% md\n"
    }
   },
   "source": [
    "Again, for debugging purposes, let's check the JSON output. Notice that the node names are added to the nodes data."
   ]
  },
  {
   "cell_type": "code",
   "execution_count": 7,
   "metadata": {
    "pycharm": {
     "is_executing": true,
     "name": "#%%\n"
    }
   },
   "outputs": [
    {
     "data": {
      "text/markdown": [
       "<pre style='max-height: 160px; overflow: scroll; white-space: pre'>{\n",
       "  \"node\":\n",
       "    [\n",
       "      {\"id\": 1, \"energized\": 1, \"u_pu\": 1.023911675778034, \"u\": 10751.072595669357, \"u_angle\": -0.013054638927056751, \"p\": 2412359.2976174504, \"q\": -3024028.8865525764, \"name\": \"First Node\"},\n",
       "      {\"id\": 2, \"energized\": 1, \"u_pu\": 1.0240665324851739, \"u\": 10752.698591094326, \"u_angle\": -0.017637349460499083, \"p\": -1009999.9999917591, \"q\": -209999.9999941892, \"name\": \"Second Node\"},\n",
       "      {\"id\": 3, \"energized\": 1, \"u_pu\": 1.0236495952257696, \"u\": 10748.320749870581, \"u_angle\": -0.020182330760261546, \"p\": -1019999.9999916556, \"q\": -219999.99999405467, \"name\": \"Third Node\"}\n",
       "    ],\n",
       "  \"line\":\n",
       "    [\n",
       "      {\"id\": 4, \"energized\": 1, \"loading\": 0.4073282784816012, \"p_from\": 2412359.2976174504, \"q_from\": -3024028.8865525764, \"i_from\": 207.7374220256166, \"s_from\": 3868362.4555496057, \"p_to\": -2240426.389983997, \"q_to\": 1532195.1033373945, \"i_to\": 145.73743890160415, \"s_to\": 2714246.1648914265},\n",
       "      {\"id\": 5, \"energized\": 1, \"loading\": 0.2202346923784938, \"p_from\": 1230426.3899922953, \"q_from\": -1742195.1033316432, \"i_from\": 114.52204003681678, \"s_from\": 2132883.7003602018, \"p_to\": -1019999.9999916556, \"q_to\": -219999.99999405467, \"i_to\": 56.04963781958342, \"s_to\": 1043455.7968502362}\n",
       "    ],\n",
       "  \"source\":\n",
       "    [\n",
       "      {\"id\": 6, \"energized\": 1, \"p\": 2412359.2976174504, \"q\": -3024028.8865525764, \"i\": 207.73742202561664, \"s\": 3868362.4555496057, \"pf\": 0.623612529936704}\n",
       "    ],\n",
       "  \"sym_load\":\n",
       "    [\n",
       "      {\"id\": 7, \"energized\": 1, \"p\": 1009999.9999917591, \"q\": 209999.9999941892, \"i\": 55.39027580876555, \"s\": 1031600.6979354526, \"pf\": 0.9790609894051806},\n",
       "      {\"id\": 8, \"energized\": 1, \"p\": 1019999.9999916556, \"q\": 219999.99999405467, \"i\": 56.04963781958342, \"s\": 1043455.7968502362, \"pf\": 0.9775210440831474}\n",
       "    ],\n",
       "  \"sym_power_sensor\":\n",
       "    [\n",
       "      {\"id\": 401, \"energized\": 1, \"p_residual\": 2.2450930003969916e-05, \"q_residual\": -4.5790038427639956e-05},\n",
       "      {\"id\": 402, \"energized\": 1, \"p_residual\": 240426.38998399736, \"q_residual\": -532195.1033373947},\n",
       "      {\"id\": 501, \"energized\": 1, \"p_residual\": 1.1713519043610177e-05, \"q_residual\": -2.664157783272003e-05},\n",
       "      {\"id\": 502, \"energized\": 1, \"p_residual\": -8.29292190474007e-06, \"q_residual\": -5.944578163052938e-06},\n",
       "      {\"id\": 601, \"energized\": 1, \"p_residual\": 2.2436719149254714e-05, \"q_residual\": -4.5715431440385146e-05},\n",
       "      {\"id\": 701, \"energized\": 1, \"p_residual\": 8.240963467187612e-06, \"q_residual\": 5.810796288585607e-06},\n",
       "      {\"id\": 801, \"energized\": 1, \"p_residual\": 8.344436253082677e-06, \"q_residual\": 5.94532756359456e-06}\n",
       "    ],\n",
       "  \"sym_voltage_sensor\":\n",
       "    [\n",
       "      {\"id\": 101, \"energized\": 1, \"u_residual\": 8.892220293432729e-08, \"u_angle_residual\": 7.503407617459601e-13},\n",
       "      {\"id\": 201, \"energized\": 1, \"u_residual\": 8.90690854404852e-08, \"u_angle_residual\": 7.72562569473223e-13},\n",
       "      {\"id\": 301, \"energized\": 1, \"u_residual\": 8.912037774422288e-08, \"u_angle_residual\": 7.875089469422392e-13}\n",
       "    ]\n",
       "}\n",
       "</pre>"
      ],
      "text/plain": [
       "<IPython.core.display.Markdown object>"
      ]
     },
     "metadata": {},
     "output_type": "display_data"
    }
   ],
   "source": [
    "from pathlib import Path\n",
    "\n",
    "from IPython.display import Markdown, display\n",
    "\n",
    "with Path(destination_file).open() as json_file:\n",
    "    display(Markdown(f\"<pre style='max-height: 160px; overflow: scroll; white-space: pre'>{json_file.read()}</pre>\"))"
   ]
  },
  {
   "cell_type": "markdown",
   "metadata": {},
   "source": [
    "## Summary"
   ]
  },
  {
   "cell_type": "code",
   "execution_count": 8,
   "metadata": {},
   "outputs": [],
   "source": [
    "%%capture cap --no-stderr\n",
    "from power_grid_model import PowerGridModel\n",
    "\n",
    "from power_grid_model_io.converters import PgmJsonConverter\n",
    "\n",
    "source_file = \"data/tiny-net/input.json\"\n",
    "destination_file = \"data/tiny-net/sym_output.json\"\n",
    "\n",
    "converter = PgmJsonConverter(source_file=source_file, destination_file=destination_file)\n",
    "input_data, extra_info = converter.load_input_data()\n",
    "pgm = PowerGridModel(input_data=input_data)\n",
    "output_data = pgm.calculate_state_estimation()\n",
    "converter.save(data=output_data, extra_info=extra_info)"
   ]
  }
 ],
 "metadata": {
  "kernelspec": {
   "display_name": "venv",
   "language": "python",
   "name": "python3"
  },
  "language_info": {
   "codemirror_mode": {
    "name": "ipython",
    "version": 3
   },
   "file_extension": ".py",
   "mimetype": "text/x-python",
   "name": "python",
   "nbconvert_exporter": "python",
   "pygments_lexer": "ipython3",
   "version": "3.13.3"
  }
 },
 "nbformat": 4,
 "nbformat_minor": 2
}
