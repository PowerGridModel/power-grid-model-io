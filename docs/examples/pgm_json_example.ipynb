{
 "cells": [
  {
   "cell_type": "markdown",
   "metadata": {},
   "source": [
    "# PGM JSON Converter\n",
    "\n",
    "Converts to and from the power-grid-model JSON data format. \n",
    "This json format makes it convenient to evaluate the grid data in perspective of input to power-grid-model. \n",
    "More details about the JSON format are mentioned in `power_grid_model.utils` and example of it is in [Make Test Dataset](power-grid-model:examples/Make%20Test%20Dataset.ipynb) in power-grid-model repository.\n",
    "\n",
    "Basic imports and configuration:"
   ]
  },
  {
   "cell_type": "code",
   "execution_count": 1,
   "metadata": {},
   "outputs": [],
   "source": [
    "import logging\n",
    "from pathlib import Path\n",
    "\n",
    "import structlog\n",
    "from power_grid_model import PowerGridModel\n",
    "\n",
    "from power_grid_model_io.converters.pgm_json_converter import PgmJsonConverter\n",
    "\n",
    "DATA_DIR = Path(\".\") / \"data\""
   ]
  },
  {
   "cell_type": "markdown",
   "metadata": {},
   "source": [
    "Define source and destination paths"
   ]
  },
  {
   "cell_type": "code",
   "execution_count": 2,
   "metadata": {},
   "outputs": [],
   "source": [
    "input_file = DATA_DIR / \"tiny-net\" / \"input.json\"\n",
    "output_file = DATA_DIR / \"tiny-net\" / \"sym_output.json\""
   ]
  },
  {
   "cell_type": "markdown",
   "metadata": {},
   "source": [
    "Instantiate the converter, optionally with source and destination file paths. Use `load_input_data()` to convert to power-grid-model data. Additional information is stored in `extra_info`. Run powerflow calculation with the `input_data`."
   ]
  },
  {
   "cell_type": "code",
   "execution_count": 3,
   "metadata": {},
   "outputs": [
    {
     "name": "stdout",
     "output_type": "stream",
     "text": [
      "2022-11-01 16:08.58 [debug    ] Loading PGM input data\n"
     ]
    }
   ],
   "source": [
    "converter = PgmJsonConverter(source_file=input_file, destination_file=output_file)\n",
    "input_data, extra_info = converter.load_input_data()\n",
    "pgm = PowerGridModel(input_data=input_data)\n",
    "output_data = pgm.calculate_state_estimation()"
   ]
  },
  {
   "cell_type": "markdown",
   "metadata": {},
   "source": [
    "The converted data or loaded data can be saved. The file will be saved in `output_file` path or the destination path can be provided here optionally."
   ]
  },
  {
   "cell_type": "code",
   "execution_count": 4,
   "metadata": {},
   "outputs": [],
   "source": [
    "converter.save(data=output_data, extra_info=extra_info)"
   ]
  }
 ],
 "metadata": {
  "kernelspec": {
   "display_name": "Python 3 (ipykernel)",
   "language": "python",
   "name": "python3"
  },
  "language_info": {
   "codemirror_mode": {
    "name": "ipython",
    "version": 3
   },
   "file_extension": ".py",
   "mimetype": "text/x-python",
   "name": "python",
   "nbconvert_exporter": "python",
   "pygments_lexer": "ipython3",
   "version": "3.9.13"
  }
 },
 "nbformat": 4,
 "nbformat_minor": 2
}
