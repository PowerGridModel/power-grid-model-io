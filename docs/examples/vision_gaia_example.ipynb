{
 "cells": [
  {
   "cell_type": "markdown",
   "metadata": {},
   "source": [
    "# Vision and Gaia Conversion\n",
    "\n",
    "This example illustrates conversion from Vision or Gaia excel export to power-grid-model input data. \n",
    "They function in a similar way since both are [Tabular Converters](../converters/tabular_converter.md).\n",
    "We can then calculate power-flow with it or convert to a different formats like PGM JSON.\n",
    "\n",
    "First we make some common imports and configuration for both converters"
   ]
  },
  {
   "cell_type": "code",
   "execution_count": 1,
   "metadata": {},
   "outputs": [],
   "source": [
    "import logging\n",
    "\n",
    "import structlog\n",
    "from power_grid_model import CalculationType, PowerGridModel\n",
    "from power_grid_model.validation import assert_valid_input_data\n",
    "\n",
    "structlog.configure(wrapper_class=structlog.make_filtering_bound_logger(logging.INFO))"
   ]
  },
  {
   "cell_type": "markdown",
   "metadata": {},
   "source": [
    "Define source and destination file paths"
   ]
  },
  {
   "cell_type": "code",
   "execution_count": 2,
   "metadata": {},
   "outputs": [],
   "source": [
    "src = \"data/vision/example.xlsx\""
   ]
  },
  {
   "cell_type": "markdown",
   "metadata": {},
   "source": [
    "## Vision Conversion\n",
    "\n",
    "To save the vision file in excel format, please follow the instructions given in the [Vision Manual](https://phasetophase.nl/pdf/VisionEN.pdf). \n",
    "\n",
    "Import the vision converter"
   ]
  },
  {
   "cell_type": "code",
   "execution_count": 3,
   "metadata": {},
   "outputs": [],
   "source": [
    "from power_grid_model_io.converters.vision_excel_converter import VisionExcelConverter"
   ]
  },
  {
   "cell_type": "markdown",
   "metadata": {},
   "source": [
    "We can instantiate the Converter with the source data file path and destination file for saving the data in the PGM JSON format. Optionally they can be provided in the individually at their relevant methods too."
   ]
  },
  {
   "cell_type": "code",
   "execution_count": 4,
   "metadata": {},
   "outputs": [],
   "source": [
    "vision_converter = VisionExcelConverter(source_file=src)"
   ]
  },
  {
   "cell_type": "markdown",
   "metadata": {},
   "source": [
    "Then convert the data by using `load_input_data()` method. The data which can be used by power-grid-model for powerflow calculation is in `input_data`. The additional information that is not used in the powerflow calculation but might be useful to have is in `extra_info`. We can also validate the converted data using the validation tool in power-grid-model: `assert_valid_input_data()`"
   ]
  },
  {
   "cell_type": "code",
   "execution_count": 5,
   "metadata": {},
   "outputs": [],
   "source": [
    "input_data, extra_info = vision_converter.load_input_data()\n",
    "assert_valid_input_data(input_data, calculation_type=CalculationType.power_flow, symmetric=True)"
   ]
  },
  {
   "cell_type": "markdown",
   "metadata": {},
   "source": [
    "Perform power flow calculation or state estimation in power-grid-model like you would normally. View node output results."
   ]
  },
  {
   "cell_type": "code",
   "execution_count": 6,
   "metadata": {},
   "outputs": [
    {
     "name": "stdout",
     "output_type": "stream",
     "text": [
      "[(0, 1, 0.99999141, 399.99656285, -3.93407215e-05)\n",
      " (1, 1, 0.98572911, 394.2916459 , -3.03246556e-03)\n",
      " (2, 1, 0.97654826, 390.61930297, -6.11006100e-03)\n",
      " (3, 1, 0.98065676, 392.26270297, -3.01981997e-03)]\n"
     ]
    }
   ],
   "source": [
    "vision_grid = PowerGridModel(input_data=input_data)\n",
    "output_data = vision_grid.calculate_power_flow()\n",
    "print(output_data[\"node\"])"
   ]
  },
  {
   "cell_type": "markdown",
   "metadata": {},
   "source": [
    "## Gaia Conversion\n",
    "\n",
    "```{note}\n",
    "Gaia Conversion is under development currently and may not work as intended\n",
    "```\n",
    "\n",
    "Please refer to Gaia manual from the software for instructions on excel export. Gaia Conversion is similar to vision conversion.\n",
    "\n",
    "Import Gaia Converter."
   ]
  },
  {
   "cell_type": "code",
   "execution_count": null,
   "metadata": {},
   "outputs": [],
   "source": [
    "from power_grid_model_io.converters.vision_excel_converter import GaiaExcelConverter"
   ]
  },
  {
   "cell_type": "markdown",
   "metadata": {},
   "source": [
    "Convert and Run power flow in similar way"
   ]
  },
  {
   "cell_type": "code",
   "execution_count": null,
   "metadata": {},
   "outputs": [],
   "source": [
    "gaia_converter = GaiaExcelConverter(source_file=src)\n",
    "input_data, extra_info = gaia_converter.load_input_data()\n",
    "assert_valid_input_data(input_data, calculation_type=CalculationType.power_flow, symmetric=True)\n",
    "gaia_grid = PowerGridModel(input_data=input_data)\n",
    "output_data = gaia_grid.calculate_power_flow()"
   ]
  }
 ],
 "metadata": {
  "kernelspec": {
   "display_name": "Python 3 (ipykernel)",
   "language": "python",
   "name": "python3"
  },
  "language_info": {
   "codemirror_mode": {
    "name": "ipython",
    "version": 3
   },
   "file_extension": ".py",
   "mimetype": "text/x-python",
   "name": "python",
   "nbconvert_exporter": "python",
   "pygments_lexer": "ipython3",
   "version": "3.9.13"
  },
  "vscode": {
   "interpreter": {
    "hash": "6191baaf994abc6c3e7d918f70d2cb3a487f327a3f3fca1519684915289f78b6"
   }
  }
 },
 "nbformat": 4,
 "nbformat_minor": 2
}
